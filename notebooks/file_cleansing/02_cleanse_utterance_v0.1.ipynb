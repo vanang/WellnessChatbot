{
 "cells": [
  {
   "cell_type": "code",
   "execution_count": 1,
   "metadata": {},
   "outputs": [],
   "source": [
    "# reload for every python code before executing everytime\n",
    "%load_ext autoreload\n",
    "%autoreload 2"
   ]
  },
  {
   "cell_type": "code",
   "execution_count": 2,
   "metadata": {},
   "outputs": [],
   "source": [
    "import pandas as pd\n",
    "import glob\n",
    "import re\n",
    "import os\n",
    "from datetime import datetime, timedelta\n",
    "\n",
    "# Kiwi POS tagger\n",
    "from kiwipiepy import Kiwi"
   ]
  },
  {
   "cell_type": "code",
   "execution_count": 3,
   "metadata": {},
   "outputs": [],
   "source": [
    "all_df_files = glob.glob('../../data/cleansed_data/*')"
   ]
  },
  {
   "cell_type": "code",
   "execution_count": 58,
   "metadata": {},
   "outputs": [],
   "source": [
    "_df = pd.read_csv(all_df_files[75], sep='\\t', index_col=0)"
   ]
  },
  {
   "cell_type": "markdown",
   "metadata": {},
   "source": [
    "# Cleanse Text\n",
    " \n",
    "* allowed character: ```[가-힣ㄱ-ㅎ0-9.a-zA-Z,!?-~ ]```\n",
    "* duplicated space: ```[\\s]{2,}```"
   ]
  },
  {
   "cell_type": "code",
   "execution_count": 70,
   "metadata": {},
   "outputs": [],
   "source": [
    "allow_regex = re.compile(r'[\\w\\d.,?!\\-~: /%]+')"
   ]
  },
  {
   "cell_type": "code",
   "execution_count": 71,
   "metadata": {},
   "outputs": [],
   "source": [
    "reduce_dupl_spaces = re.compile(r'[\\s]{2,}')"
   ]
  },
  {
   "cell_type": "code",
   "execution_count": 78,
   "metadata": {},
   "outputs": [],
   "source": [
    "space_dot = re.compile(r'\\s(\\.|\\?|!)')"
   ]
  },
  {
   "cell_type": "code",
   "execution_count": null,
   "metadata": {},
   "outputs": [],
   "source": [
    "sample_idxs = _df.sample(10).index.to_list()\n",
    "\n",
    "for idx in sample_idxs:\n",
    "    utter = _df.utterances.iloc[idx]\n",
    "    print(utter)\n",
    "    print('>>>')\n",
    "    utter = ''.join(allow_regex.findall(utter))\n",
    "    utter = reduce_dupl_spaces.sub(' ', utter)\n",
    "    print(utter)\n",
    "    print('-'*10)"
   ]
  },
  {
   "cell_type": "code",
   "execution_count": 82,
   "metadata": {},
   "outputs": [],
   "source": [
    "def cleanse_text(sentence:str):\n",
    "    _sent = ''.join(allow_regex.findall(sentence))\n",
    "    _sent = reduce_dupl_spaces.sub(' ', _sent)\n",
    "    return _sent\n"
   ]
  },
  {
   "cell_type": "code",
   "execution_count": 85,
   "metadata": {},
   "outputs": [],
   "source": [
    "_df['cleansed_utterance'] = _df.utterances.apply(lambda x: cleanse_text(x))"
   ]
  },
  {
   "cell_type": "code",
   "execution_count": 90,
   "metadata": {},
   "outputs": [],
   "source": [
    "_df.to_csv(all_df_files[75], sep='\\t')"
   ]
  },
  {
   "cell_type": "code",
   "execution_count": 91,
   "metadata": {},
   "outputs": [],
   "source": [
    "_df_ = pd.read_csv(all_df_files[75], sep='\\t', index_col=0)"
   ]
  },
  {
   "cell_type": "markdown",
   "metadata": {},
   "source": [
    "# Process All Files"
   ]
  },
  {
   "cell_type": "code",
   "execution_count": 94,
   "metadata": {},
   "outputs": [],
   "source": [
    "allow_regex = re.compile(r'[\\w\\d.,?!\\-~: /%]+')\n",
    "reduce_dupl_spaces = re.compile(r'[\\s]{2,}')\n",
    "space_dot = re.compile(r'\\s(\\.|\\?|!)')\n",
    "\n",
    "for file_name in all_df_files:\n",
    "    _df = pd.read_csv(file_name, sep='\\t', index_col=0)\n",
    "    _df['cleansed_utterance'] = _df.utterances.apply(lambda x: cleanse_text(x))\n",
    "    _df.to_csv(file_name, sep='\\t')\n",
    "    "
   ]
  },
  {
   "cell_type": "code",
   "execution_count": null,
   "metadata": {},
   "outputs": [],
   "source": []
  }
 ],
 "metadata": {
  "kernelspec": {
   "display_name": "wellness_chat",
   "language": "python",
   "name": "wellness_chat"
  },
  "language_info": {
   "codemirror_mode": {
    "name": "ipython",
    "version": 3
   },
   "file_extension": ".py",
   "mimetype": "text/x-python",
   "name": "python",
   "nbconvert_exporter": "python",
   "pygments_lexer": "ipython3",
   "version": "3.8.13"
  }
 },
 "nbformat": 4,
 "nbformat_minor": 4
}
