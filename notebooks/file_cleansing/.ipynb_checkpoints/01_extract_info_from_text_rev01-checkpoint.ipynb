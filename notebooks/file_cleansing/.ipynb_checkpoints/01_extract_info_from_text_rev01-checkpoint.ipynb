{
 "cells": [
  {
   "cell_type": "code",
   "execution_count": 348,
   "metadata": {},
   "outputs": [],
   "source": [
    "# reload for every python code before executing everytime\n",
    "%load_ext autoreload\n",
    "%autoreload 2"
   ]
  },
  {
   "cell_type": "code",
   "execution_count": 350,
   "metadata": {},
   "outputs": [],
   "source": [
    "import pandas as pd\n",
    "import glob\n",
    "import re\n",
    "import os\n",
    "from datetime import datetime, timedelta\n",
    "\n",
    "# Kiwi POS tagger\n",
    "from kiwipiepy import Kiwi"
   ]
  },
  {
   "cell_type": "code",
   "execution_count": 354,
   "metadata": {},
   "outputs": [],
   "source": [
    "kiwi = Kiwi()"
   ]
  },
  {
   "cell_type": "code",
   "execution_count": 389,
   "metadata": {},
   "outputs": [],
   "source": [
    "text_files = glob.glob('../../raw_data/BioNutrion_Dialog/*/*.txt')"
   ]
  },
  {
   "cell_type": "code",
   "execution_count": 390,
   "metadata": {},
   "outputs": [
    {
     "data": {
      "text/plain": [
       "107"
      ]
     },
     "execution_count": 390,
     "metadata": {},
     "output_type": "execute_result"
    }
   ],
   "source": [
    "len(text_files)"
   ]
  },
  {
   "cell_type": "code",
   "execution_count": 391,
   "metadata": {},
   "outputs": [
    {
     "name": "stdout",
     "output_type": "stream",
     "text": [
      "../../raw_data/BioNutrion_Dialog/2022-06-20 08_28_58/2022-06-20 김수연.txt\n"
     ]
    }
   ],
   "source": [
    "# notice: files are not stored as UTF-8, so need to specify it explicitly\n",
    "idx = 98\n",
    "with open(text_files[idx], 'r', encoding='utf-8') as fp:\n",
    "    print(text_files[idx])\n",
    "    dialog_contents = fp.read()"
   ]
  },
  {
   "cell_type": "code",
   "execution_count": 393,
   "metadata": {},
   "outputs": [],
   "source": [
    "dialog_contents = dialog_contents.split('\\n')"
   ]
  },
  {
   "cell_type": "markdown",
   "metadata": {},
   "source": [
    "# Extract participant's name\n",
    "\n",
    "* extract name from file name\n",
    "* encrypt or shuffle name for personal info security"
   ]
  },
  {
   "cell_type": "code",
   "execution_count": 321,
   "metadata": {},
   "outputs": [],
   "source": [
    "filename = os.path.basename(text_files[idx])\n",
    "dirname = os.path.dirname(text_files[idx])"
   ]
  },
  {
   "cell_type": "code",
   "execution_count": 322,
   "metadata": {},
   "outputs": [],
   "source": [
    "person_name = filename.split(' ')[-1].replace('.txt', '')"
   ]
  },
  {
   "cell_type": "code",
   "execution_count": 323,
   "metadata": {},
   "outputs": [
    {
     "name": "stdout",
     "output_type": "stream",
     "text": [
      "../../raw_data/BioNutrion_Dialog/2022-06-20 08_28_58\n",
      "2022-06-20 김수연.txt\n",
      "김수연\n"
     ]
    }
   ],
   "source": [
    "print(dirname)\n",
    "print(filename)\n",
    "print(person_name)"
   ]
  },
  {
   "cell_type": "markdown",
   "metadata": {},
   "source": [
    "# Extract Date and Time\n",
    "* 날짜와 시간이 함께 검출되어야 완전한 발화\n",
    "* 날짜와 시간이 없으면 이전 발화 내용과 구분되는 문장으로 통합\n",
    "\n",
    "## Regex for Date\n",
    "* regular expression = ```^\\d{4}-\\d{2}-\\d{2}```\n",
    "\n",
    "## Regex for Time\n",
    "* Regular Expression = ```\\d{2}:\\d{2}:\\d{2}```"
   ]
  },
  {
   "cell_type": "code",
   "execution_count": 237,
   "metadata": {},
   "outputs": [],
   "source": [
    "date_matched = re.search(r'^\\d{4}-\\d{2}-\\d{2}', dialog_contents[3])"
   ]
  },
  {
   "cell_type": "code",
   "execution_count": 238,
   "metadata": {},
   "outputs": [],
   "source": [
    "date_regex = re.compile(r'^\\d{4}-\\d{2}-\\d{2}')"
   ]
  },
  {
   "cell_type": "code",
   "execution_count": 239,
   "metadata": {},
   "outputs": [],
   "source": [
    "time_matched = re.search(r'\\d{2}:\\d{2}:\\d{2}', dialog_contents[3])"
   ]
  },
  {
   "cell_type": "code",
   "execution_count": 240,
   "metadata": {},
   "outputs": [],
   "source": [
    "time_regex = re.compile(r'\\d{2}:\\d{2}:\\d{2}')"
   ]
  },
  {
   "cell_type": "code",
   "execution_count": 367,
   "metadata": {},
   "outputs": [],
   "source": [
    "def is_full_talk(sentence: str):\n",
    "    \n",
    "    if type(sentence) is not str:\n",
    "        print(sentence, 'is not a string')\n",
    "    \n",
    "#     date_matched = re.search(r'^\\d{4}-\\d{2}-\\d{2}', sentence)\n",
    "    date_matched = date_regex.search(sentence)\n",
    "#     time_matched = re.search(r'\\d{2}:\\d{2}:\\d{2}', sentence)\n",
    "    time_matched = time_regex.search(sentence)\n",
    "    \n",
    "    if date_matched and time_matched:\n",
    "        return True\n",
    "    else:\n",
    "        return False"
   ]
  },
  {
   "cell_type": "code",
   "execution_count": 364,
   "metadata": {},
   "outputs": [],
   "source": [
    "def convert_single_talk(sentences: list, day_sep:str):\n",
    "    ret_sentences = []\n",
    "    head_talk = sentences[0]\n",
    "    for sent in sentences[1:]:\n",
    "        if is_full_talk(sent):\n",
    "            ret_sentences.append(head_talk)\n",
    "            head_talk = sent\n",
    "        elif date_regex.search(sent.strip()):\n",
    "            ret_sentences.append(head_talk)\n",
    "            ret_sentences.append(day_sep)\n",
    "            head_talk = sent\n",
    "        else:            \n",
    "            head_talk += ' ' + sent\n",
    "            \n",
    "    return ret_sentences"
   ]
  },
  {
   "cell_type": "code",
   "execution_count": 243,
   "metadata": {},
   "outputs": [],
   "source": [
    "single_dialog = convert_single_talk(sentences=dialog_contents, day_sep='=' * 20)"
   ]
  },
  {
   "cell_type": "code",
   "execution_count": 406,
   "metadata": {},
   "outputs": [],
   "source": [
    "def convert_to_dict(sentences:list):\n",
    "    \n",
    "    talk_dict = {}\n",
    "    \n",
    "    idx = 1\n",
    "    for sent in sentences:\n",
    "        if is_full_talk(sentence=sent):\n",
    "            date_str = date_regex.search(sent).group()\n",
    "            time_str = time_regex.search(sent).group()\n",
    "            sent_splits = sent.split(' ')\n",
    "            utterances = ' '.join(sent_splits[4:])\n",
    "            utters = kiwi.split_into_sents(utterances)\n",
    "            _utters = [v.text for v in utters]\n",
    "            for utter in _utters:\n",
    "                talk_dict[idx] = {\n",
    "#                     'date': datetime.strptime(date_str, \"%Y-%m-%d\"),\n",
    "#                     'date_time': datetime.strptime(date_str + ' ' + time_str, \"%Y-%m-%d %H:%M:%S\"),\n",
    "                    'date': date_str,\n",
    "                    'date_time': time_str,\n",
    "                    'participants': sent_splits[2],\n",
    "                    'utterances': utter\n",
    "                }\n",
    "                idx += 1\n",
    "            \n",
    "    return talk_dict"
   ]
  },
  {
   "cell_type": "code",
   "execution_count": 381,
   "metadata": {},
   "outputs": [],
   "source": [
    "talks = convert_to_dict(sentences=single_dialog)"
   ]
  },
  {
   "cell_type": "code",
   "execution_count": 382,
   "metadata": {},
   "outputs": [],
   "source": [
    "talk_df = pd.DataFrame().from_dict(talks).T"
   ]
  },
  {
   "cell_type": "code",
   "execution_count": 383,
   "metadata": {},
   "outputs": [
    {
     "data": {
      "text/plain": [
       "752"
      ]
     },
     "execution_count": 383,
     "metadata": {},
     "output_type": "execute_result"
    }
   ],
   "source": [
    "len(talk_df)"
   ]
  },
  {
   "cell_type": "code",
   "execution_count": 384,
   "metadata": {},
   "outputs": [
    {
     "data": {
      "text/plain": [
       "Index(['date', 'date_time', 'participants', 'utterances'], dtype='object')"
      ]
     },
     "execution_count": 384,
     "metadata": {},
     "output_type": "execute_result"
    }
   ],
   "source": [
    "talk_df.keys()"
   ]
  },
  {
   "cell_type": "code",
   "execution_count": 310,
   "metadata": {},
   "outputs": [],
   "source": [
    "def divide_session(sentences:list, delta_mins:int, session_sep:str):\n",
    "    # divide full dialogs into potential single intent sessions by seperator\n",
    "    # prerequisites 1. the sentences must be formed with single utterance\n",
    "    \n",
    "    # Notice: this algorithm is simple but heuristic\n",
    "    # The current talk is delayed more than ```delta mins``` -> treat this talk as different session/intent \n",
    "    delta_thld = timedelta(minutes=delta_mins)\n",
    "    ret_sentences = []\n",
    "    prev_date_time = None\n",
    "    for sent in sentences:\n",
    "        # step 1. get talk's date and time info only for full talk\n",
    "    \n",
    "        if is_full_talk(sentence=sent):\n",
    "            date_str = date_regex.search(sent).group()\n",
    "            time_str = time_regex.search(sent).group()\n",
    "            cur_date_time = datetime.strptime(date_str + ' ' + time_str, \"%Y-%m-%d %H:%M:%S\")\n",
    "            \n",
    "            delta_time = cur_date_time - prev_date_time if prev_date_time else timedelta(minutes=0)\n",
    "            \n",
    "            # step 2. delta time is bigger than delta mins -> insert session separator\n",
    "            if delta_time >= delta_thld:\n",
    "                ret_sentences.append(session_sep)\n",
    "                ret_sentences.append(sent)\n",
    "            else:\n",
    "                ret_sentences.append(sent)\n",
    "            prev_date_time = cur_date_time\n",
    "            \n",
    "        else:\n",
    "            ret_sentences.append(sent)\n",
    "            \n",
    "    return ret_sentences"
   ]
  },
  {
   "cell_type": "code",
   "execution_count": 315,
   "metadata": {},
   "outputs": [],
   "source": [
    "sessioned_dialog = divide_session(sentences=single_dialog, delta_mins=180, session_sep = '*' * 30)"
   ]
  },
  {
   "cell_type": "code",
   "execution_count": 324,
   "metadata": {},
   "outputs": [
    {
     "data": {
      "text/plain": [
       "'셔니 님과의 상담 저장한 날짜 : 2022-06-20 08:28:58'"
      ]
     },
     "execution_count": 324,
     "metadata": {},
     "output_type": "execute_result"
    }
   ],
   "source": [
    "sessioned_dialog[0]"
   ]
  },
  {
   "cell_type": "markdown",
   "metadata": {},
   "source": [
    "# Extract Alias"
   ]
  },
  {
   "cell_type": "code",
   "execution_count": 328,
   "metadata": {},
   "outputs": [
    {
     "name": "stdout",
     "output_type": "stream",
     "text": [
      "셔니\n"
     ]
    }
   ],
   "source": [
    "alias = sessioned_dialog[0].split(' ')[0]\n",
    "print(alias)"
   ]
  },
  {
   "cell_type": "markdown",
   "metadata": {},
   "source": [
    "# Extract All Participants in Conversation"
   ]
  },
  {
   "cell_type": "code",
   "execution_count": 335,
   "metadata": {},
   "outputs": [],
   "source": [
    "def extract_talk_party(sentences:list):\n",
    "    \n",
    "    party_name = {}\n",
    "    for sentence in sentences:\n",
    "        if is_full_talk(sentence=sentence):\n",
    "            splits = sentence.split(' ')\n",
    "            party_name[splits[2]] = 1 if splits[2] not in party_name.keys() else 1\n",
    "            \n",
    "    \n",
    "    return party_name.keys()"
   ]
  },
  {
   "cell_type": "code",
   "execution_count": 336,
   "metadata": {},
   "outputs": [],
   "source": [
    "parties = extract_talk_party(sentences=single_dialog)"
   ]
  },
  {
   "cell_type": "code",
   "execution_count": 337,
   "metadata": {},
   "outputs": [
    {
     "name": "stdout",
     "output_type": "stream",
     "text": [
      "dict_keys(['셔니', '고은영', '김*영', '홍*민', '바이오뉴트리온_4', '고*미'])\n"
     ]
    }
   ],
   "source": [
    "print(parties)"
   ]
  },
  {
   "cell_type": "markdown",
   "metadata": {},
   "source": [
    "# Automate Full Workflows"
   ]
  },
  {
   "cell_type": "code",
   "execution_count": 407,
   "metadata": {},
   "outputs": [
    {
     "name": "stdout",
     "output_type": "stream",
     "text": [
      "processing: 0 2022-06-20 최선희.txt ../../raw_data/BioNutrion_Dialog/2022-06-20 08_44_40 최선희\n",
      "saving: ../../data/cleansed_data/2022-06-20 최선희.csv\n",
      "processing: 1 2022-08-24 조연주.txt ../../raw_data/BioNutrion_Dialog/2022-08-24 13_43_56 조연주\n",
      "saving: ../../data/cleansed_data/2022-08-24 조연주.csv\n",
      "processing: 2 2022-08-24 고아라.txt ../../raw_data/BioNutrion_Dialog/2022-08-24 13_37_01 고아라\n",
      "saving: ../../data/cleansed_data/2022-08-24 고아라.csv\n",
      "processing: 3 2022-06-20 임혁재.txt ../../raw_data/BioNutrion_Dialog/2022-06-20 08_44_47 임혁재\n",
      "saving: ../../data/cleansed_data/2022-06-20 임혁재.csv\n",
      "processing: 4 2022-08-24 이수행.txt ../../raw_data/BioNutrion_Dialog/2022-08-24 13_56_31 이수행\n",
      "saving: ../../data/cleansed_data/2022-08-24 이수행.csv\n",
      "processing: 5 2022-06-20 강현정.txt ../../raw_data/BioNutrion_Dialog/2022-06-20 08_45_30 강현정\n",
      "saving: ../../data/cleansed_data/2022-06-20 강현정.csv\n",
      "processing: 6 2022-06-20 이수경.txt ../../raw_data/BioNutrion_Dialog/2022-06-20 08_44_54 이수경\n",
      "saving: ../../data/cleansed_data/2022-06-20 이수경.csv\n",
      "processing: 7 2022-06-20 박은하.txt ../../raw_data/BioNutrion_Dialog/2022-06-20 08_29_27 박은하\n",
      "saving: ../../data/cleansed_data/2022-06-20 박은하.csv\n",
      "processing: 8 2022-08-24 김수진.txt ../../raw_data/BioNutrion_Dialog/2022-08-24 13_57_02 김수진\n",
      "saving: ../../data/cleansed_data/2022-08-24 김수진.csv\n",
      "processing: 9 2022-08-24 정현아.txt ../../raw_data/BioNutrion_Dialog/2022-08-24 13_43_32 정현아\n",
      "saving: ../../data/cleansed_data/2022-08-24 정현아.csv\n",
      "processing: 10 2022-08-24 박완수.txt ../../raw_data/BioNutrion_Dialog/2022-08-24 13_57_23 박완수\n",
      "saving: ../../data/cleansed_data/2022-08-24 박완수.csv\n",
      "processing: 11 2022-08-24 임현흥.txt ../../raw_data/BioNutrion_Dialog/2022-08-24 13_33_51 임현흥\n",
      "saving: ../../data/cleansed_data/2022-08-24 임현흥.csv\n",
      "processing: 12 2022-06-20 박은희DO.txt ../../raw_data/BioNutrion_Dialog/2022-06-20 08_26_01 박은희DO\n",
      "saving: ../../data/cleansed_data/2022-06-20 박은희DO.csv\n",
      "processing: 13 2022-08-24 유지원.txt ../../raw_data/BioNutrion_Dialog/2022-08-24 13_37_19 유지원\n",
      "saving: ../../data/cleansed_data/2022-08-24 유지원.csv\n",
      "processing: 14 2022-08-24 여수정.txt ../../raw_data/BioNutrion_Dialog/2022-08-24 13_33_28 여수정\n",
      "saving: ../../data/cleansed_data/2022-08-24 여수정.csv\n",
      "processing: 15 2022-08-24 우성민.txt ../../raw_data/BioNutrion_Dialog/2022-08-24 13_41_39 우성민\n",
      "saving: ../../data/cleansed_data/2022-08-24 우성민.csv\n",
      "processing: 16 2022-06-20 변영진.txt ../../raw_data/BioNutrion_Dialog/2022-06-20 08_45_43 변영진\n",
      "saving: ../../data/cleansed_data/2022-06-20 변영진.csv\n",
      "processing: 17 2022-08-24 윤소이.txt ../../raw_data/BioNutrion_Dialog/2022-08-24 13_47_01 윤소이\n",
      "saving: ../../data/cleansed_data/2022-08-24 윤소이.csv\n",
      "processing: 18 2022-02-10 13_22_22 김은옥.txt ../../raw_data/BioNutrion_Dialog/2022-02-10 13_22_22 김은옥 김은옥\n",
      "saving: ../../data/cleansed_data/2022-02-10 13_22_22 김은옥.csv\n",
      "processing: 19 2022-06-20 김혜자.txt ../../raw_data/BioNutrion_Dialog/2022-06-20 08_29_53 김혜자\n",
      "saving: ../../data/cleansed_data/2022-06-20 김혜자.csv\n",
      "processing: 20 2022-08-24 권영미.txt ../../raw_data/BioNutrion_Dialog/2022-08-24 13_57_43 권영미\n",
      "saving: ../../data/cleansed_data/2022-08-24 권영미.csv\n",
      "processing: 21 2022-06-20 노창현 .txt ../../raw_data/BioNutrion_Dialog/2022-06-20 08_23_40 \n",
      "saving: ../../data/cleansed_data/2022-06-20 노창현 .csv\n",
      "processing: 22 2022-08-24 노민향.txt ../../raw_data/BioNutrion_Dialog/2022-08-24 13_42_18 노민향\n",
      "saving: ../../data/cleansed_data/2022-08-24 노민향.csv\n",
      "processing: 23 2022-06-20 김하민D0.txt ../../raw_data/BioNutrion_Dialog/2022-06-20 08_25_42 김하민D0\n",
      "saving: ../../data/cleansed_data/2022-06-20 김하민D0.csv\n",
      "processing: 24 2022-06-20 김은정.txt ../../raw_data/BioNutrion_Dialog/2022-06-20 08_25_21 김은정\n",
      "saving: ../../data/cleansed_data/2022-06-20 김은정.csv\n",
      "processing: 25 2022-08-24 김은옥.txt ../../raw_data/BioNutrion_Dialog/2022-08-24 13_48_21 김은옥\n",
      "saving: ../../data/cleansed_data/2022-08-24 김은옥.csv\n",
      "processing: 26 2022-06-20 이재영.txt ../../raw_data/BioNutrion_Dialog/2022-06-20 08_46_03 이재영\n",
      "saving: ../../data/cleansed_data/2022-06-20 이재영.csv\n",
      "processing: 27 2022-06-20 김희정.txt ../../raw_data/BioNutrion_Dialog/2022-06-20 08_45_51 김희정\n",
      "saving: ../../data/cleansed_data/2022-06-20 김희정.csv\n",
      "processing: 28 2022-08-24 이경란.txt ../../raw_data/BioNutrion_Dialog/2022-08-24 13_32_24 이경란\n",
      "saving: ../../data/cleansed_data/2022-08-24 이경란.csv\n",
      "processing: 29 2022-06-20 최은숙.txt ../../raw_data/BioNutrion_Dialog/2022-06-20 08_45_57 최은숙\n",
      "saving: ../../data/cleansed_data/2022-06-20 최은숙.csv\n",
      "processing: 30 2022-08-24 우종숙.txt ../../raw_data/BioNutrion_Dialog/2022-08-24 13_50_19 우종숙\n",
      "saving: ../../data/cleansed_data/2022-08-24 우종숙.csv\n",
      "processing: 31 2022-08-24 박종위.txt ../../raw_data/BioNutrion_Dialog/2022-08-24 13_45_26 박종위\n",
      "saving: ../../data/cleansed_data/2022-08-24 박종위.csv\n",
      "processing: 32 2022-08-24 이동은.txt ../../raw_data/BioNutrion_Dialog/2022-08-24 13_40_08 이동은\n",
      "saving: ../../data/cleansed_data/2022-08-24 이동은.csv\n",
      "processing: 33 2022-08-24 김현숙.txt ../../raw_data/BioNutrion_Dialog/2022-08-24 13_44_23 김현숙\n",
      "saving: ../../data/cleansed_data/2022-08-24 김현숙.csv\n",
      "processing: 34 2022-08-24 김나영.txt ../../raw_data/BioNutrion_Dialog/2022-08-24 13_31_37 김나영\n",
      "saving: ../../data/cleansed_data/2022-08-24 김나영.csv\n",
      "processing: 35 2022-06-20 한하순.txt ../../raw_data/BioNutrion_Dialog/2022-06-20 08_45_24 한하순\n",
      "saving: ../../data/cleansed_data/2022-06-20 한하순.csv\n",
      "processing: 36 2022-08-24 홍석만.txt ../../raw_data/BioNutrion_Dialog/2022-08-24 13_43_16 홍석만\n",
      "saving: ../../data/cleansed_data/2022-08-24 홍석만.csv\n",
      "processing: 37 2022-08-24 박미정.txt ../../raw_data/BioNutrion_Dialog/2022-08-24 13_52_33 박미정\n",
      "saving: ../../data/cleansed_data/2022-08-24 박미정.csv\n",
      "processing: 38 2022-08-24 김진아.txt ../../raw_data/BioNutrion_Dialog/2022-08-24 13_57_13 김진아\n",
      "saving: ../../data/cleansed_data/2022-08-24 김진아.csv\n",
      "processing: 39 2022-08-24 이영숙.txt ../../raw_data/BioNutrion_Dialog/2022-08-24 13_50_35 이영숙\n",
      "saving: ../../data/cleansed_data/2022-08-24 이영숙.csv\n",
      "processing: 40 2022-08-24 김영석.txt ../../raw_data/BioNutrion_Dialog/2022-08-24 13_32_38 김영석\n",
      "saving: ../../data/cleansed_data/2022-08-24 김영석.csv\n",
      "processing: 41 2022-08-24 주상미.txt ../../raw_data/BioNutrion_Dialog/2022-08-24 13_45_47 주상미\n",
      "saving: ../../data/cleansed_data/2022-08-24 주상미.csv\n",
      "processing: 42 2022-06-20 성소희.txt ../../raw_data/BioNutrion_Dialog/2022-06-20 08_29_04 성소희\n",
      "saving: ../../data/cleansed_data/2022-06-20 성소희.csv\n",
      "processing: 43 2022-06-20 김기연.txt ../../raw_data/BioNutrion_Dialog/2022-06-20 08_29_39 김기연\n",
      "saving: ../../data/cleansed_data/2022-06-20 김기연.csv\n",
      "processing: 44 2022-08-24 김혜정.txt ../../raw_data/BioNutrion_Dialog/2022-08-24 13_46_35 김혜정\n",
      "saving: ../../data/cleansed_data/2022-08-24 김혜정.csv\n",
      "processing: 45 2022-06-20 강성희.txt ../../raw_data/BioNutrion_Dialog/2022-06-20 08_29_46 강성희\n",
      "saving: ../../data/cleansed_data/2022-06-20 강성희.csv\n",
      "processing: 46 2022-08-24 김서원.txt ../../raw_data/BioNutrion_Dialog/2022-08-24 13_41_51 김서원\n",
      "saving: ../../data/cleansed_data/2022-08-24 김서원.csv\n",
      "processing: 47 2022-08-24 고석현.txt ../../raw_data/BioNutrion_Dialog/2022-08-24 13_33_12 고석현\n",
      "saving: ../../data/cleansed_data/2022-08-24 고석현.csv\n",
      "processing: 48 2022-08-24 sol2.txt ../../raw_data/BioNutrion_Dialog/2022-08-24 13_37_27 sol2\n",
      "saving: ../../data/cleansed_data/2022-08-24 sol2.csv\n",
      "processing: 49 2022-08-24 김경아.txt ../../raw_data/BioNutrion_Dialog/2022-08-24 13_40_58 김경아\n",
      "saving: ../../data/cleansed_data/2022-08-24 김경아.csv\n",
      "processing: 50 2022-08-24 이효선.txt ../../raw_data/BioNutrion_Dialog/2022-08-24 13_46_45 이효선\n",
      "saving: ../../data/cleansed_data/2022-08-24 이효선.csv\n",
      "processing: 51 2022-06-20 조정화DO.txt ../../raw_data/BioNutrion_Dialog/2022-06-20 08_25_49 조정화DO\n",
      "saving: ../../data/cleansed_data/2022-06-20 조정화DO.csv\n",
      "processing: 52 2022-08-24 장충용.txt ../../raw_data/BioNutrion_Dialog/2022-08-24 13_42_09 장충용\n",
      "saving: ../../data/cleansed_data/2022-08-24 장충용.csv\n",
      "processing: 53 2022-08-24 천창희.txt ../../raw_data/BioNutrion_Dialog/2022-08-24 13_48_02 천창희\n",
      "saving: ../../data/cleansed_data/2022-08-24 천창희.csv\n",
      "processing: 54 2022-06-20 최재호.txt ../../raw_data/BioNutrion_Dialog/2022-06-20 08_29_20 최재호\n",
      "saving: ../../data/cleansed_data/2022-06-20 최재호.csv\n",
      "processing: 55 2022-08-24 김용순.txt ../../raw_data/BioNutrion_Dialog/2022-08-24 13_56_14 김용순\n",
      "saving: ../../data/cleansed_data/2022-08-24 김용순.csv\n",
      "processing: 56 2022-06-20 하동혁.txt ../../raw_data/BioNutrion_Dialog/2022-06-20 08_29_13 하동혁\n",
      "saving: ../../data/cleansed_data/2022-06-20 하동혁.csv\n",
      "processing: 57 2022-08-24 강영란.txt ../../raw_data/BioNutrion_Dialog/2022-08-24 13_52_54 강영란\n",
      "saving: ../../data/cleansed_data/2022-08-24 강영란.csv\n",
      "processing: 58 2022-08-24 주혜용.txt ../../raw_data/BioNutrion_Dialog/2022-08-24 13_49_04 주혜용\n",
      "saving: ../../data/cleansed_data/2022-08-24 주혜용.csv\n",
      "processing: 59 2022-06-20 오현석.txt ../../raw_data/BioNutrion_Dialog/2022-06-20 08_45_36 오현석\n",
      "saving: ../../data/cleansed_data/2022-06-20 오현석.csv\n",
      "processing: 60 2022-08-24 정원미.txt ../../raw_data/BioNutrion_Dialog/2022-08-24 13_56_04 정원미\n",
      "saving: ../../data/cleansed_data/2022-08-24 정원미.csv\n",
      "processing: 61 2022-08-24 남궁춘오.txt ../../raw_data/BioNutrion_Dialog/2022-08-24 13_53_03 남궁춘오\n",
      "saving: ../../data/cleansed_data/2022-08-24 남궁춘오.csv\n",
      "processing: 62 2022-02-10 13_14_33 sol.txt ../../raw_data/BioNutrion_Dialog/2022-02-10 13_14_33 sol sol\n",
      "saving: ../../data/cleansed_data/2022-02-10 13_14_33 sol.csv\n",
      "processing: 63 2022-06-20 김학권.txt ../../raw_data/BioNutrion_Dialog/2022-06-20 08_45_17 김학권\n",
      "saving: ../../data/cleansed_data/2022-06-20 김학권.csv\n",
      "processing: 64 2022-08-24 한수민.txt ../../raw_data/BioNutrion_Dialog/2022-08-24 13_46_14 한수민\n",
      "saving: ../../data/cleansed_data/2022-08-24 한수민.csv\n",
      "processing: 65 2022-08-24 백선우.txt ../../raw_data/BioNutrion_Dialog/2022-08-24 13_42_35 백선우\n",
      "saving: ../../data/cleansed_data/2022-08-24 백선우.csv\n",
      "processing: 66 2022-08-24 박창용.txt ../../raw_data/BioNutrion_Dialog/2022-08-24 13_52_17 박창용\n",
      "saving: ../../data/cleansed_data/2022-08-24 박창용.csv\n",
      "processing: 67 2022-08-24 최수빈.txt ../../raw_data/BioNutrion_Dialog/2022-08-24 13_55_49 최수빈\n",
      "saving: ../../data/cleansed_data/2022-08-24 최수빈.csv\n",
      "processing: 68 2022-08-24 김영희.txt ../../raw_data/BioNutrion_Dialog/2022-08-24 13_37_10 김영희\n",
      "saving: ../../data/cleansed_data/2022-08-24 김영희.csv\n",
      "processing: 69 2022-08-24 조윤숙.txt ../../raw_data/BioNutrion_Dialog/2022-08-24 13_43_24 조윤숙\n",
      "saving: ../../data/cleansed_data/2022-08-24 조윤숙.csv\n",
      "processing: 70 2022-06-20 성훈DO.txt ../../raw_data/BioNutrion_Dialog/2022-06-20 08_44_21 성훈DO\n",
      "saving: ../../data/cleansed_data/2022-06-20 성훈DO.csv\n",
      "processing: 71 2022-08-24 김종원.txt ../../raw_data/BioNutrion_Dialog/2022-08-24 13_33_39 김종원\n",
      "saving: ../../data/cleansed_data/2022-08-24 김종원.csv\n",
      "processing: 72 2022-08-24 홍현미.txt ../../raw_data/BioNutrion_Dialog/2022-08-24 13_50_50 홍현미\n",
      "saving: ../../data/cleansed_data/2022-08-24 홍현미.csv\n",
      "processing: 73 2022-08-24 연소라.txt ../../raw_data/BioNutrion_Dialog/2022-08-24 13_49_28 연소라\n",
      "saving: ../../data/cleansed_data/2022-08-24 연소라.csv\n",
      "processing: 74 2022-06-20 김나래.txt ../../raw_data/BioNutrion_Dialog/2022-06-20 08_28_50 김나래\n",
      "saving: ../../data/cleansed_data/2022-06-20 김나래.csv\n",
      "processing: 75 2022-08-24 남정은.txt ../../raw_data/BioNutrion_Dialog/2022-08-24 13_35_03 남정은\n",
      "saving: ../../data/cleansed_data/2022-08-24 남정은.csv\n",
      "processing: 76 2022-08-24 정욱제.txt ../../raw_data/BioNutrion_Dialog/2022-08-24 13_35_12 정욱제\n",
      "saving: ../../data/cleansed_data/2022-08-24 정욱제.csv\n",
      "processing: 77 2022-06-20 박경란.txt ../../raw_data/BioNutrion_Dialog/2022-06-20 08_45_09 박경란\n",
      "saving: ../../data/cleansed_data/2022-06-20 박경란.csv\n",
      "processing: 78 2022-06-20 최규철.txt ../../raw_data/BioNutrion_Dialog/2022-06-20 08_44_33 최규철\n",
      "saving: ../../data/cleansed_data/2022-06-20 최규철.csv\n",
      "processing: 79 2022-08-24 장수연.txt ../../raw_data/BioNutrion_Dialog/2022-08-24 13_57_31 장수연\n",
      "saving: ../../data/cleansed_data/2022-08-24 장수연.csv\n",
      "processing: 80 2022-08-24 김민기.txt ../../raw_data/BioNutrion_Dialog/2022-08-24 13_51_43 김민기\n",
      "saving: ../../data/cleansed_data/2022-08-24 김민기.csv\n",
      "processing: 81 2022-08-24 이성재.txt ../../raw_data/BioNutrion_Dialog/2022-08-24 13_44_56 이성재\n",
      "saving: ../../data/cleansed_data/2022-08-24 이성재.csv\n",
      "processing: 82 2022-08-24 김현명.txt ../../raw_data/BioNutrion_Dialog/2022-08-24 13_41_10 김현명\n",
      "saving: ../../data/cleansed_data/2022-08-24 김현명.csv\n",
      "processing: 83 2022-08-24 가요이.txt ../../raw_data/BioNutrion_Dialog/2022-08-24 13_51_59 가요이\n",
      "saving: ../../data/cleansed_data/2022-08-24 가요이.csv\n",
      "processing: 84 2022-08-24 유재현.txt ../../raw_data/BioNutrion_Dialog/2022-08-24 13_47_51 유재현\n",
      "saving: ../../data/cleansed_data/2022-08-24 유재현.csv\n",
      "processing: 85 2022-08-24 문유진.txt ../../raw_data/BioNutrion_Dialog/2022-08-24 13_32_56 문유진\n",
      "saving: ../../data/cleansed_data/2022-08-24 문유진.csv\n",
      "processing: 86 2022-08-24 채기현.txt ../../raw_data/BioNutrion_Dialog/2022-08-24 13_34_06 채기현\n",
      "saving: ../../data/cleansed_data/2022-08-24 채기현.csv\n",
      "processing: 87 2022-08-24 구인양.txt ../../raw_data/BioNutrion_Dialog/2022-08-24 13_34_42 구인양\n",
      "saving: ../../data/cleansed_data/2022-08-24 구인양.csv\n",
      "processing: 88 2022-08-24 이효정.txt ../../raw_data/BioNutrion_Dialog/2022-08-24 13_41_27 이효정\n",
      "saving: ../../data/cleansed_data/2022-08-24 이효정.csv\n",
      "processing: 89 2022-08-24 조윤희.txt ../../raw_data/BioNutrion_Dialog/2022-08-24 13_44_13 조윤희\n",
      "saving: ../../data/cleansed_data/2022-08-24 조윤희.csv\n",
      "processing: 90 2022-08-24 박윤성.txt ../../raw_data/BioNutrion_Dialog/2022-08-24 13_34_16 박윤성\n",
      "saving: ../../data/cleansed_data/2022-08-24 박윤성.csv\n",
      "processing: 91 2022-08-24 이혜영.txt ../../raw_data/BioNutrion_Dialog/2022-08-24 13_37_38 이혜영\n",
      "saving: ../../data/cleansed_data/2022-08-24 이혜영.csv\n",
      "processing: 92 2022-06-20 조미영.txt ../../raw_data/BioNutrion_Dialog/2022-06-20 08_28_41 조미영\n",
      "saving: ../../data/cleansed_data/2022-06-20 조미영.csv\n",
      "processing: 93 2022-08-24 이인호.txt ../../raw_data/BioNutrion_Dialog/2022-08-24 13_34_25 이인호\n",
      "saving: ../../data/cleansed_data/2022-08-24 이인호.csv\n",
      "processing: 94 2022-08-24 황정현.txt ../../raw_data/BioNutrion_Dialog/2022-08-24 13_44_07 황정현\n",
      "saving: ../../data/cleansed_data/2022-08-24 황정현.csv\n",
      "processing: 95 2022-06-20 최성윤DO.txt ../../raw_data/BioNutrion_Dialog/2022-06-20 08_44_26 최성윤DO\n",
      "saving: ../../data/cleansed_data/2022-06-20 최성윤DO.csv\n",
      "processing: 96 2022-08-24 이동은.txt ../../raw_data/BioNutrion_Dialog/2022-08-24 13_47_14 이동은\n",
      "saving: ../../data/cleansed_data/2022-08-24 이동은.csv\n",
      "processing: 97 2022-08-24 이재준.txt ../../raw_data/BioNutrion_Dialog/2022-08-24 13_48_13 이재준\n",
      "saving: ../../data/cleansed_data/2022-08-24 이재준.csv\n",
      "processing: 98 2022-06-20 김수연.txt ../../raw_data/BioNutrion_Dialog/2022-06-20 08_28_58 김수연\n",
      "saving: ../../data/cleansed_data/2022-06-20 김수연.csv\n",
      "processing: 99 2022-08-24 송빛나.txt ../../raw_data/BioNutrion_Dialog/2022-08-24 13_45_59 송빛나\n",
      "saving: ../../data/cleansed_data/2022-08-24 송빛나.csv\n",
      "processing: 100 2022-08-24 유은영.txt ../../raw_data/BioNutrion_Dialog/2022-08-24 13_32_07 유은영\n",
      "saving: ../../data/cleansed_data/2022-08-24 유은영.csv\n",
      "processing: 101 2022-06-20 이해나DO.txt ../../raw_data/BioNutrion_Dialog/2022-06-20 08_25_55 이해나DO\n",
      "saving: ../../data/cleansed_data/2022-06-20 이해나DO.csv\n",
      "processing: 102 2022-08-24 이예은.txt ../../raw_data/BioNutrion_Dialog/2022-08-24 13_56_24 이예은\n",
      "saving: ../../data/cleansed_data/2022-08-24 이예은.csv\n",
      "processing: 103 2022-08-24 고주영.txt ../../raw_data/BioNutrion_Dialog/2022-08-24 13_45_37 고주영\n",
      "saving: ../../data/cleansed_data/2022-08-24 고주영.csv\n",
      "processing: 104 2022-06-20 최소영.txt ../../raw_data/BioNutrion_Dialog/2022-06-20 08_45_01 최소영\n",
      "saving: ../../data/cleansed_data/2022-06-20 최소영.csv\n",
      "processing: 105 2022-08-24 13_51_02 유초록.txt ../../raw_data/BioNutrion_Dialog/2022-08-24 13_51_02 유초록\n",
      "saving: ../../data/cleansed_data/2022-08-24 13_51_02 유초록.csv\n",
      "processing: 106 2022-08-24 조선영.txt ../../raw_data/BioNutrion_Dialog/2022-08-24 13_42_27 조선영\n",
      "saving: ../../data/cleansed_data/2022-08-24 조선영.csv\n"
     ]
    }
   ],
   "source": [
    "date_regex = re.compile(r'^\\d{4}-\\d{2}-\\d{2}')\n",
    "time_regex = re.compile(r'\\d{2}:\\d{2}:\\d{2}')\n",
    "\n",
    "# notice: files are not stored as UTF-8, so need to specify it explicitly\n",
    "for idx, text_file in enumerate(text_files):\n",
    "    \n",
    "    with open(text_file, 'r', encoding='utf-8') as fp:\n",
    "        dialog_contents = fp.read()\n",
    "        \n",
    "    dialog_contents = dialog_contents.split('\\n')   \n",
    "    \n",
    "    filename = os.path.basename(text_file)\n",
    "    dirname = os.path.dirname(text_file)\n",
    "    person_name = filename.split(' ')[-1].replace('.txt', '')\n",
    "    \n",
    "    print('processing:', idx, filename, dirname, person_name)\n",
    "    \n",
    "    single_dialog = convert_single_talk(sentences=dialog_contents, day_sep='=' * 20)\n",
    "    talks = convert_to_dict(sentences=single_dialog)\n",
    "    talk_df = pd.DataFrame().from_dict(talks).T\n",
    "    \n",
    "    base_path = '../../data/cleansed_data'\n",
    "    save_path = os.path.join(base_path, filename.replace('txt', 'csv'))\n",
    "    talk_df.to_csv(save_path, sep='\\t')\n",
    "    \n",
    "    print('saving:', save_path)\n",
    "    "
   ]
  },
  {
   "cell_type": "code",
   "execution_count": null,
   "metadata": {},
   "outputs": [],
   "source": []
  }
 ],
 "metadata": {
  "kernelspec": {
   "display_name": "wellness_chat",
   "language": "python",
   "name": "wellness_chat"
  },
  "language_info": {
   "codemirror_mode": {
    "name": "ipython",
    "version": 3
   },
   "file_extension": ".py",
   "mimetype": "text/x-python",
   "name": "python",
   "nbconvert_exporter": "python",
   "pygments_lexer": "ipython3",
   "version": "3.8.13"
  }
 },
 "nbformat": 4,
 "nbformat_minor": 4
}
