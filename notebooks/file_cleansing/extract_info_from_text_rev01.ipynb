{
 "cells": [
  {
   "cell_type": "code",
   "execution_count": 23,
   "metadata": {},
   "outputs": [],
   "source": [
    "import pandas as pd\n",
    "import glob\n",
    "import re"
   ]
  },
  {
   "cell_type": "code",
   "execution_count": 17,
   "metadata": {},
   "outputs": [],
   "source": [
    "text_files = glob.glob('../../raw_data/BioNutrion_Dialog/*/*.txt')"
   ]
  },
  {
   "cell_type": "code",
   "execution_count": 140,
   "metadata": {},
   "outputs": [
    {
     "name": "stdout",
     "output_type": "stream",
     "text": [
      "../../raw_data/BioNutrion_Dialog/2022-06-20 08_25_42/2022-06-20 김하민D0.txt\n"
     ]
    }
   ],
   "source": [
    "# notice: files are not stored as UTF-8, so need to specify it explicitly\n",
    "idx = 23\n",
    "with open(text_files[idx], 'r', encoding='utf-8') as fp:\n",
    "    print(text_files[idx])\n",
    "    dialog_contents = fp.read()"
   ]
  },
  {
   "cell_type": "code",
   "execution_count": 141,
   "metadata": {},
   "outputs": [],
   "source": [
    "dialog_contents = dialog_contents.split('\\n')"
   ]
  },
  {
   "cell_type": "markdown",
   "metadata": {},
   "source": [
    "# Extract participant's name\n",
    "\n",
    "* extract name from file name\n",
    "* encrypt or shuffle name for personal info security"
   ]
  },
  {
   "cell_type": "code",
   "execution_count": 142,
   "metadata": {},
   "outputs": [
    {
     "data": {
      "text/plain": [
       "'하민 님과의 상담'"
      ]
     },
     "execution_count": 142,
     "metadata": {},
     "output_type": "execute_result"
    }
   ],
   "source": [
    "dialog_contents[0]"
   ]
  },
  {
   "cell_type": "code",
   "execution_count": 143,
   "metadata": {},
   "outputs": [
    {
     "data": {
      "text/plain": [
       "<re.Match object; span=(0, 2), match='하민'>"
      ]
     },
     "execution_count": 143,
     "metadata": {},
     "output_type": "execute_result"
    }
   ],
   "source": [
    "re.search(r\"[가-힣]+\", dialog_contents[0])"
   ]
  },
  {
   "cell_type": "code",
   "execution_count": 144,
   "metadata": {},
   "outputs": [
    {
     "name": "stdout",
     "output_type": "stream",
     "text": [
      "하민  \n"
     ]
    }
   ],
   "source": [
    "text = re.sub(r'(님과의 상담)|([.\\-_ㅡ]+)', ' ', dialog_contents[0])\n",
    "print(text)"
   ]
  },
  {
   "cell_type": "code",
   "execution_count": 146,
   "metadata": {},
   "outputs": [
    {
     "name": "stdout",
     "output_type": "stream",
     "text": [
      "하민\n"
     ]
    }
   ],
   "source": [
    "name_cand = text if text.find(' ') < 0 else text[0:text.find(' ')]\n",
    "print(name_cand)"
   ]
  },
  {
   "cell_type": "code",
   "execution_count": null,
   "metadata": {},
   "outputs": [],
   "source": []
  }
 ],
 "metadata": {
  "kernelspec": {
   "display_name": "wellness_chat",
   "language": "python",
   "name": "wellness_chat"
  },
  "language_info": {
   "codemirror_mode": {
    "name": "ipython",
    "version": 3
   },
   "file_extension": ".py",
   "mimetype": "text/x-python",
   "name": "python",
   "nbconvert_exporter": "python",
   "pygments_lexer": "ipython3",
   "version": "3.8.13"
  }
 },
 "nbformat": 4,
 "nbformat_minor": 4
}
